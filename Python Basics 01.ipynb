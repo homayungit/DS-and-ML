{
 "cells": [
  {
   "cell_type": "raw",
   "id": "0fc58b17",
   "metadata": {},
   "source": [
    "ASSIGNMENT 02\n",
    "TITLE: Python Basics 01\n",
    "NAME: MD. HOMAYUN KABIR\n",
    "INSTRUCTOR: MR. RASHEDUL ALAM SHAKIL\n",
    "DATE: 01-08-2023"
   ]
  },
  {
   "cell_type": "raw",
   "id": "55e5b836",
   "metadata": {},
   "source": [
    "# Take values of the length & breadth of a rectangle from user input and check if it is square or not python"
   ]
  },
  {
   "cell_type": "code",
   "execution_count": 2,
   "id": "4acde483",
   "metadata": {},
   "outputs": [
    {
     "name": "stdout",
     "output_type": "stream",
     "text": [
      "Enter the length value of the rectangle: 20\n",
      "Enter the breadth value of the rectangle: 30\n",
      "this is not a square.\n"
     ]
    }
   ],
   "source": [
    "def check_square(length, breadth):\n",
    "    return length == breadth\n",
    "\n",
    "def Output():\n",
    "        length = float(input(\"Enter the length value of the rectangle: \"))\n",
    "        breadth = float(input(\"Enter the breadth value of the rectangle: \"))\n",
    "         \n",
    "        if length <=0 or breadth <=0 :\n",
    "            print('Length and Breadth must be is grater then 0')\n",
    "        else:                  \n",
    "\n",
    "            if check_square(length, breadth):\n",
    "                print(\"this is a square!\")\n",
    "            else:\n",
    "                print(\"this is not a square.\")\n",
    "Output()"
   ]
  },
  {
   "cell_type": "raw",
   "id": "b006a12a",
   "metadata": {},
   "source": [
    "# Take three integer values from the user and print the greatest among them."
   ]
  },
  {
   "cell_type": "code",
   "execution_count": 3,
   "id": "3594ab38",
   "metadata": {
    "scrolled": true
   },
   "outputs": [
    {
     "name": "stdout",
     "output_type": "stream",
     "text": [
      "Enter first number: 55\n",
      "Enter second number: 45\n",
      "Enter third number: 85\n",
      "The largest number is 85.0\n"
     ]
    }
   ],
   "source": [
    "# take three numbers from user\n",
    "firstNo = float(input(\"Enter first number: \"))\n",
    "secondNo = float(input(\"Enter second number: \"))\n",
    "thiredNo = float(input(\"Enter third number: \"))\n",
    " \n",
    "if (firstNo > secondNo) and (firstNo > thiredNo):\n",
    "   largest = firstNo\n",
    "elif (secondNo > firstNo) and (secondNo > thiredNo):\n",
    "   largest = secondNo\n",
    "else:\n",
    "   largest = thiredNo\n",
    " \n",
    "print(\"The largest number is\",largest)"
   ]
  },
  {
   "cell_type": "raw",
   "id": "d1b98995",
   "metadata": {},
   "source": [
    "# A student will not be allowed to sit in an exam if his/her attendance is less than 75%."
   ]
  },
  {
   "cell_type": "code",
   "execution_count": 4,
   "id": "14998bcc",
   "metadata": {},
   "outputs": [
    {
     "name": "stdout",
     "output_type": "stream",
     "text": [
      "Enter the total number of classes attended: 65\n",
      "Enter the total number of classes held: 82\n",
      "Congratulations! You are allowed to sit in the exam with 79.27% attendance.\n"
     ]
    }
   ],
   "source": [
    "def check_eligibility(attendance_percentage):\n",
    "    return attendance_percentage >= 75\n",
    "\n",
    "def eligibility():\n",
    "        attended = int(input(\"Enter the total number of classes attended: \"))\n",
    "        classes = int(input(\"Enter the total number of classes held: \"))\n",
    "\n",
    "        if attended <= 0 or classes <= 0:\n",
    "            print(\"Invalid input. Both attended and total classes should be positive integers.\")\n",
    "            return\n",
    "\n",
    "        attendance_percentage = (attended / classes) * 100\n",
    "\n",
    "        if check_eligibility(attendance_percentage):\n",
    "            print(f\"Congratulations! You are allowed to sit in the exam with {attendance_percentage:.2f}% attendance.\")\n",
    "        else:\n",
    "            print(f\"Sorry, you are not allowed to sit in the exam. Your attendance is {attendance_percentage:.2f}%.\")\n",
    "\n",
    "eligibility()"
   ]
  },
  {
   "cell_type": "code",
   "execution_count": null,
   "id": "17f13f9a",
   "metadata": {},
   "outputs": [],
   "source": []
  }
 ],
 "metadata": {
  "kernelspec": {
   "display_name": "Python 3 (ipykernel)",
   "language": "python",
   "name": "python3"
  },
  "language_info": {
   "codemirror_mode": {
    "name": "ipython",
    "version": 3
   },
   "file_extension": ".py",
   "mimetype": "text/x-python",
   "name": "python",
   "nbconvert_exporter": "python",
   "pygments_lexer": "ipython3",
   "version": "3.10.9"
  }
 },
 "nbformat": 4,
 "nbformat_minor": 5
}
