{
 "cells": [
  {
   "cell_type": "markdown",
   "id": "398c24f3",
   "metadata": {},
   "source": [
    "1. Variable Swap: Write a Python program to swap the values of two variables without using a temporary variable."
   ]
  },
  {
   "cell_type": "markdown",
   "id": "fd0e4263",
   "metadata": {},
   "source": [
    "There are severel way to solve this problem below examples"
   ]
  },
  {
   "cell_type": "code",
   "execution_count": null,
   "id": "5700218d",
   "metadata": {},
   "outputs": [],
   "source": [
    "def swap(a,b):\n",
    "    a,b=b,a #I have assigned here multiple variable\n",
    "    return a,b\n",
    "\n",
    "# Main Function\n",
    "valuefor_a=20\n",
    "valuefor_b=30\n",
    "\n",
    "print(\"Before swapping: a =\", valuefor_a, \"b =\", valuefor_b)\n",
    "\n",
    "valuefor_a, valuefor_b= swap(valuefor_a, valuefor_b\n",
    "\n",
    "print(\"After swapping: valuefor_a =\", valuefor_a, \"valuefor_b=\", valuefor_b\n"
   ]
  }
 ],
 "metadata": {
  "kernelspec": {
   "display_name": "Python 3 (ipykernel)",
   "language": "python",
   "name": "python3"
  },
  "language_info": {
   "codemirror_mode": {
    "name": "ipython",
    "version": 3
   },
   "file_extension": ".py",
   "mimetype": "text/x-python",
   "name": "python",
   "nbconvert_exporter": "python",
   "pygments_lexer": "ipython3",
   "version": "3.10.9"
  }
 },
 "nbformat": 4,
 "nbformat_minor": 5
}
