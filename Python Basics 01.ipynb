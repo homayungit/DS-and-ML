{
 "cells": [
  {
   "cell_type": "raw",
   "id": "5ef0bdff",
   "metadata": {},
   "source": [
    "ASSIGNMENT 02\n",
    "TITLE: Python Basics 01\n",
    "NAME: MD. HOMAYUN KABIR\n",
    "INSTRUCTOR: MR. RASHEDUL ALAM SHAKIL\n",
    "DATE: 01-08-2023"
   ]
  },
  {
   "cell_type": "markdown",
   "id": "48f8525c",
   "metadata": {},
   "source": [
    "# Python Condition"
   ]
  },
  {
   "cell_type": "markdown",
   "id": "fb20440d",
   "metadata": {},
   "source": [
    "1. Take values of the length & breadth of a rectangle from user input and check if it is square or not python"
   ]
  },
  {
   "cell_type": "code",
   "execution_count": 17,
   "id": "4acde483",
   "metadata": {},
   "outputs": [
    {
     "name": "stdout",
     "output_type": "stream",
     "text": [
      "Enter the length value of the rectangle: 10\n",
      "Enter the breadth value of the rectangle: 20\n",
      "this is not a square.\n"
     ]
    }
   ],
   "source": [
    "def check_square(length, breadth):\n",
    "    return length == breadth\n",
    "\n",
    "def Output():\n",
    "        length = float(input(\"Enter the length value of the rectangle: \"))\n",
    "        breadth = float(input(\"Enter the breadth value of the rectangle: \"))\n",
    "         \n",
    "        if length <=0 or breadth <=0 :\n",
    "            print('Length and Breadth must be is grater then 0')\n",
    "        else:                  \n",
    "\n",
    "            if check_square(length, breadth):\n",
    "                print(\"this is a square!\")\n",
    "            else:\n",
    "                print(\"this is not a square.\")\n",
    "Output()"
   ]
  },
  {
   "cell_type": "markdown",
   "id": "cba5aa51",
   "metadata": {},
   "source": [
    "2. Take three integer values from the user and print the greatest among them."
   ]
  },
  {
   "cell_type": "code",
   "execution_count": 18,
   "id": "3594ab38",
   "metadata": {
    "scrolled": true
   },
   "outputs": [
    {
     "name": "stdout",
     "output_type": "stream",
     "text": [
      "Enter first number: 20\n",
      "Enter second number: 80\n",
      "Enter third number: 60\n",
      "The largest number is 80.0\n"
     ]
    }
   ],
   "source": [
    "# take three numbers from user\n",
    "firstNo = float(input(\"Enter first number: \"))\n",
    "secondNo = float(input(\"Enter second number: \"))\n",
    "thiredNo = float(input(\"Enter third number: \"))\n",
    " \n",
    "if (firstNo > secondNo) and (firstNo > thiredNo):\n",
    "   largest = firstNo\n",
    "elif (secondNo > firstNo) and (secondNo > thiredNo):\n",
    "   largest = secondNo\n",
    "else:\n",
    "   largest = thiredNo\n",
    " \n",
    "print(\"The largest number is\",largest)"
   ]
  },
  {
   "cell_type": "markdown",
   "id": "5ea57ca6",
   "metadata": {},
   "source": [
    "3. A student will not be allowed to sit in an exam if his/her attendance is less than 75%."
   ]
  },
  {
   "cell_type": "code",
   "execution_count": 22,
   "id": "42c4ebac",
   "metadata": {},
   "outputs": [
    {
     "name": "stdout",
     "output_type": "stream",
     "text": [
      "Enter the attendance percentage: 88\n",
      "The student is allowed to sit in the exam.\n"
     ]
    }
   ],
   "source": [
    "def is_allowed_to_sit_exam(attendance_percentage):\n",
    "    if attendance_percentage >= 75:\n",
    "        return True\n",
    "    else:\n",
    "        return False\n",
    "\n",
    "if __name__ == \"__main__\":\n",
    "    try:\n",
    "        attendance_percentage = float(input(\"Enter the attendance percentage: \"))\n",
    "        if attendance_percentage < 0 or attendance_percentage > 100:\n",
    "            print(\"Invalid percentage! Please enter a value between 0 and 100.\")\n",
    "        else:\n",
    "            if is_allowed_to_sit_exam(attendance_percentage):\n",
    "                print(\"The student is allowed to sit in the exam.\")\n",
    "            else:\n",
    "                print(\"The student is not allowed to sit in the exam due to low attendance.\")\n",
    "    except ValueError:\n",
    "        print(\"Invalid input! Please enter a valid attendance percentage.\")\n"
   ]
  },
  {
   "cell_type": "markdown",
   "id": "91f9b65b",
   "metadata": {},
   "source": [
    "4. Grading system program in python"
   ]
  },
  {
   "cell_type": "code",
   "execution_count": 3,
   "id": "68af4431",
   "metadata": {
    "scrolled": true
   },
   "outputs": [
    {
     "name": "stdout",
     "output_type": "stream",
     "text": [
      "Enter your marks: 5\n",
      "Grade: F\n"
     ]
    }
   ],
   "source": [
    "marks = float(input(\"Enter your marks: \"))\n",
    "\n",
    "if marks > 90:\n",
    "    print(\"Grade: A+\")\n",
    "elif marks >= 80 and marks < 90:\n",
    "    print(\"Grade: A\")\n",
    "elif marks >= 60 and marks < 70:\n",
    "    print(\"Grade: B\")\n",
    "elif marks >= 50 and marks < 60:\n",
    "    print(\"Grade: C\")\n",
    "elif marks >= 45 and marks < 50:\n",
    "    print(\"Grade: D\")\n",
    "elif marks >= 25 and marks < 45:\n",
    "    print(\"Grade: E\")\n",
    "else:\n",
    "    print(\"Grade: F\")"
   ]
  },
  {
   "cell_type": "markdown",
   "id": "457bf90b",
   "metadata": {},
   "source": [
    "# Loop Problem"
   ]
  },
  {
   "cell_type": "markdown",
   "id": "db32e2c3",
   "metadata": {},
   "source": [
    "5. Print the following pattern using for loop."
   ]
  },
  {
   "cell_type": "code",
   "execution_count": 4,
   "id": "4e72753c",
   "metadata": {},
   "outputs": [
    {
     "name": "stdout",
     "output_type": "stream",
     "text": [
      "1 2 3 4 5 6 7 \n",
      "1 2 3 4 5 6 \n",
      "1 2 3 4 5 \n",
      "1 2 3 4 \n",
      "\n",
      "\n",
      "\n",
      "\n",
      "\n"
     ]
    }
   ],
   "source": [
    "n = 8\n",
    "for i in range(n+1):\n",
    "    for j in range(n-i):\n",
    "        if j==0:\n",
    "            continue\n",
    "        if i > 3:\n",
    "            break\n",
    "        print(j, end=' ')\n",
    "    print()"
   ]
  },
  {
   "cell_type": "markdown",
   "id": "72a65d53",
   "metadata": {},
   "source": [
    "6. Display numbers from -100 to -10 using for loop."
   ]
  },
  {
   "cell_type": "code",
   "execution_count": 3,
   "id": "fe56102c",
   "metadata": {},
   "outputs": [
    {
     "name": "stdout",
     "output_type": "stream",
     "text": [
      "-100\n",
      "-99\n",
      "-98\n",
      "-97\n",
      "-96\n",
      "-95\n",
      "-94\n",
      "-93\n",
      "-92\n",
      "-91\n",
      "-90\n",
      "-89\n",
      "-88\n",
      "-87\n",
      "-86\n",
      "-85\n",
      "-84\n",
      "-83\n",
      "-82\n",
      "-81\n",
      "-80\n",
      "-79\n",
      "-78\n",
      "-77\n",
      "-76\n",
      "-75\n",
      "-74\n",
      "-73\n",
      "-72\n",
      "-71\n",
      "-70\n",
      "-69\n",
      "-68\n",
      "-67\n",
      "-66\n",
      "-65\n",
      "-64\n",
      "-63\n",
      "-62\n",
      "-61\n",
      "-60\n",
      "-59\n",
      "-58\n",
      "-57\n",
      "-56\n",
      "-55\n",
      "-54\n",
      "-53\n",
      "-52\n",
      "-51\n",
      "-50\n",
      "-49\n",
      "-48\n",
      "-47\n",
      "-46\n",
      "-45\n",
      "-44\n",
      "-43\n",
      "-42\n",
      "-41\n",
      "-40\n",
      "-39\n",
      "-38\n",
      "-37\n",
      "-36\n",
      "-35\n",
      "-34\n",
      "-33\n",
      "-32\n",
      "-31\n",
      "-30\n",
      "-29\n",
      "-28\n",
      "-27\n",
      "-26\n",
      "-25\n",
      "-24\n",
      "-23\n",
      "-22\n",
      "-21\n",
      "-20\n",
      "-19\n",
      "-18\n",
      "-17\n",
      "-16\n",
      "-15\n",
      "-14\n",
      "-13\n",
      "-12\n",
      "-11\n",
      "-10\n"
     ]
    }
   ],
   "source": [
    "number = -100\n",
    "while number <=-10:\n",
    "    print(number)\n",
    "    number +=1\n"
   ]
  },
  {
   "cell_type": "markdown",
   "id": "9e158bb3",
   "metadata": {},
   "source": [
    "7. Write a program to sum all prime numbers within a range of 10 to 1000."
   ]
  },
  {
   "cell_type": "code",
   "execution_count": 5,
   "id": "b947c367",
   "metadata": {},
   "outputs": [
    {
     "name": "stdout",
     "output_type": "stream",
     "text": [
      "The sum of prime numbers between 10 and 1000 is: 76110\n"
     ]
    }
   ],
   "source": [
    "def is_prime(number):\n",
    "    if number <= 1:\n",
    "        return False\n",
    "    for i in range(2, int(number**0.5) + 1):\n",
    "        if number % i == 0:\n",
    "            return False\n",
    "    return True\n",
    "\n",
    "def sum_primes_in_range(start, end):\n",
    "    prime_sum = 0\n",
    "    for num in range(start, end + 1):\n",
    "        if is_prime(num):\n",
    "            prime_sum += num\n",
    "    return prime_sum\n",
    "\n",
    "start_range = 10\n",
    "end_range = 1000\n",
    "result = sum_primes_in_range(start_range, end_range)\n",
    "print(f\"The sum of prime numbers between {start_range} and {end_range} is: {result}\")\n"
   ]
  },
  {
   "cell_type": "markdown",
   "id": "ea15f042",
   "metadata": {},
   "source": [
    "8. Find the factorial of an n! (Hint, n=7: 7*6*5*4*3*2*1)."
   ]
  },
  {
   "cell_type": "code",
   "execution_count": 4,
   "id": "8901db97",
   "metadata": {},
   "outputs": [
    {
     "name": "stdout",
     "output_type": "stream",
     "text": [
      "The factorial of 7! is: 5040\n"
     ]
    }
   ],
   "source": [
    "def factorial(n):\n",
    "    if n == 0 or n == 1:\n",
    "        return 1\n",
    "    else:\n",
    "        return n * factorial(n - 1)\n",
    "\n",
    "\n",
    "n = 7\n",
    "result = factorial(n)\n",
    "print(f\"The factorial of {n}! is: {result}\")\n"
   ]
  },
  {
   "cell_type": "markdown",
   "id": "ad5be7c6",
   "metadata": {},
   "source": [
    "9. Reverse a given integer number 27956240710."
   ]
  },
  {
   "cell_type": "code",
   "execution_count": 6,
   "id": "080402a3",
   "metadata": {},
   "outputs": [
    {
     "name": "stdout",
     "output_type": "stream",
     "text": [
      "The reversed number is: 1704265972\n"
     ]
    }
   ],
   "source": [
    "def reverse_integer(number):\n",
    "    # Convert the integer to a string and then reverse it using slicing\n",
    "    reversed_str = str(number)[::-1]\n",
    "    # Convert the reversed string back to an integer\n",
    "    reversed_number = int(reversed_str)\n",
    "    return reversed_number\n",
    "\n",
    "\n",
    "number = 27956240710\n",
    "reversed_number = reverse_integer(number)\n",
    "print(f\"The reversed number is: {reversed_number}\")\n"
   ]
  },
  {
   "cell_type": "markdown",
   "id": "b1ef5f82",
   "metadata": {},
   "source": [
    "11. Display the Fibonacci series of 15 elements using the for and while loop."
   ]
  },
  {
   "cell_type": "code",
   "execution_count": 7,
   "id": "83a31dfd",
   "metadata": {},
   "outputs": [
    {
     "name": "stdout",
     "output_type": "stream",
     "text": [
      "The Fibonacci series with 15 elements using while loop:\n",
      "[0, 1, 1, 2, 3, 5, 8, 13, 21, 34, 55, 89, 144, 233, 377]\n"
     ]
    }
   ],
   "source": [
    "def fibonacci_with_while(n):\n",
    "    fib_series = [0, 1]  # First two elements of the Fibonacci series\n",
    "    i = 2\n",
    "    while i < n:\n",
    "        next_num = fib_series[-1] + fib_series[-2]\n",
    "        fib_series.append(next_num)\n",
    "        i += 1\n",
    "    return fib_series\n",
    "\n",
    "n = 15\n",
    "fibonacci_series = fibonacci_with_while(n)\n",
    "print(f\"The Fibonacci series with {n} elements using while loop:\")\n",
    "print(fibonacci_series)"
   ]
  },
  {
   "cell_type": "markdown",
   "id": "ef651fb5",
   "metadata": {},
   "source": [
    "12. Remove 2 and add 3 to the list and replace True with False.\n",
    "Li = [1,3,5, [2,3], True]\n",
    "Output = [1,3,5, [3,3], False]"
   ]
  },
  {
   "cell_type": "code",
   "execution_count": 8,
   "id": "2d17ae68",
   "metadata": {},
   "outputs": [
    {
     "name": "stdout",
     "output_type": "stream",
     "text": [
      "Output = [False, 3, 5, [3, 3], True]\n"
     ]
    }
   ],
   "source": [
    "def manipulate_list(input_list):\n",
    "    # Remove 2 and add 3 to the inner list\n",
    "    input_list[3][0] = 3\n",
    "\n",
    "    # Replace True with False\n",
    "    index_of_true = input_list.index(True)\n",
    "    input_list[index_of_true] = False\n",
    "\n",
    "    return input_list\n",
    "\n",
    "\n",
    "Li = [1, 3, 5, [2, 3], True]\n",
    "result = manipulate_list(Li)\n",
    "print(\"Output =\", result)\n"
   ]
  },
  {
   "cell_type": "markdown",
   "id": "801a718b",
   "metadata": {},
   "source": [
    "13. Find the intersection (common) of two sets.\n",
    "S1 = {1,4,6,8}\n",
    "S2 = {True, 1,2,10}"
   ]
  },
  {
   "cell_type": "code",
   "execution_count": 9,
   "id": "a34ed9fa",
   "metadata": {},
   "outputs": [
    {
     "name": "stdout",
     "output_type": "stream",
     "text": [
      "Intersection set: {True}\n"
     ]
    }
   ],
   "source": [
    "S1 = {1, 4, 6, 8}\n",
    "S2 = {True, 1, 2, 10}\n",
    "\n",
    "intersection_set = S1.intersection(S2)\n",
    "print(\"Intersection set:\", intersection_set)"
   ]
  },
  {
   "cell_type": "markdown",
   "id": "e388ba55",
   "metadata": {},
   "source": [
    "14. Input a list from the user then Remove duplicates from a list and create a set and find the max\n",
    "number. User_input = [1,9,3,4,5,200,54]"
   ]
  },
  {
   "cell_type": "code",
   "execution_count": 13,
   "id": "02cf915a",
   "metadata": {},
   "outputs": [
    {
     "name": "stdout",
     "output_type": "stream",
     "text": [
      "Enter a list of numbers separated by spaces: User_input = [1,9,3,4,5,200,54]\n",
      "Invalid input! Please enter a list of numbers separated by spaces.\n"
     ]
    }
   ],
   "source": [
    "def find_max_number(input_list):\n",
    "    unique_set = set(input_list)\n",
    "    max_number = max(unique_set)\n",
    "    return max_number\n",
    "\n",
    "if __name__ == \"__main__\":\n",
    "    try:\n",
    "        user_input = input(\"Enter a list of numbers separated by spaces: \")\n",
    "        input_list = [int(num) for num in user_input.split()]\n",
    "        max_number = find_max_number(input_list)\n",
    "        print(\"The maximum number in the list is:\", max_number)\n",
    "    except ValueError:\n",
    "        print(\"Invalid input! Please enter a list of numbers separated by spaces.\")\n"
   ]
  },
  {
   "cell_type": "markdown",
   "id": "fffbb3cc",
   "metadata": {},
   "source": [
    "15. Rename the key of a dictionary.\n",
    "Dict = { \"name\": \"Shakil\", \"age\":27, \"city\": “Berlin”, \"country\": \"Germany\" }\n",
    "Write a program to rename a key ‘country’ to a ‘region’ in the following dictionary."
   ]
  },
  {
   "cell_type": "code",
   "execution_count": 14,
   "id": "079eb231",
   "metadata": {},
   "outputs": [
    {
     "name": "stdout",
     "output_type": "stream",
     "text": [
      "Original dictionary: {'name': 'Shakil', 'age': 27, 'city': 'Berlin', 'country': 'Germany'}\n",
      "Updated dictionary: {'name': 'Shakil', 'age': 27, 'city': 'Berlin', 'region': 'Germany'}\n"
     ]
    }
   ],
   "source": [
    "def rename_key(dictionary, old_key, new_key):\n",
    "    if old_key in dictionary:\n",
    "        dictionary[new_key] = dictionary.pop(old_key)\n",
    "\n",
    "\n",
    "Dict = { \"name\": \"Shakil\", \"age\": 27, \"city\": \"Berlin\", \"country\": \"Germany\" }\n",
    "print(\"Original dictionary:\", Dict)\n",
    "\n",
    "old_key = 'country'\n",
    "new_key = 'region'\n",
    "rename_key(Dict, old_key, new_key)\n",
    "\n",
    "print(\"Updated dictionary:\", Dict)\n"
   ]
  },
  {
   "cell_type": "markdown",
   "id": "5991b008",
   "metadata": {},
   "source": [
    "16. Creating a data frame using the list.\n",
    "num = [10,100,300] (column name is number)"
   ]
  },
  {
   "cell_type": "code",
   "execution_count": 15,
   "id": "09d21a2e",
   "metadata": {},
   "outputs": [
    {
     "name": "stdout",
     "output_type": "stream",
     "text": [
      "   number\n",
      "0      10\n",
      "1     100\n",
      "2     300\n"
     ]
    }
   ],
   "source": [
    "import pandas as pd\n",
    "\n",
    "num = [10, 100, 300]\n",
    "df = pd.DataFrame({'number': num})\n",
    "\n",
    "print(df)\n"
   ]
  },
  {
   "cell_type": "markdown",
   "id": "3d15ced7",
   "metadata": {},
   "source": [
    "17. Change the value of a key in a given dictionary.\n",
    "Write a Python program to change ‘age’ to 28 in the following dictionary.\n",
    "Dict = { \"name\": \"Shakil\", \"age\":27, \"city\": “Berlin”, \"country\": \"Germany\" }"
   ]
  },
  {
   "cell_type": "code",
   "execution_count": 16,
   "id": "b7e1e371",
   "metadata": {},
   "outputs": [
    {
     "name": "stdout",
     "output_type": "stream",
     "text": [
      "Original dictionary: {'name': 'Shakil', 'age': 27, 'city': 'Berlin', 'country': 'Germany'}\n",
      "Updated dictionary: {'name': 'Shakil', 'age': 28, 'city': 'Berlin', 'country': 'Germany'}\n"
     ]
    }
   ],
   "source": [
    "def change_key_value(dictionary, key, new_value):\n",
    "    if key in dictionary:\n",
    "        dictionary[key] = new_value\n",
    "\n",
    "Dict = { \"name\": \"Shakil\", \"age\": 27, \"city\": \"Berlin\", \"country\": \"Germany\" }\n",
    "print(\"Original dictionary:\", Dict)\n",
    "\n",
    "key_to_change = 'age'\n",
    "new_value = 28\n",
    "change_key_value(Dict, key_to_change, new_value)\n",
    "\n",
    "print(\"Updated dictionary:\", Dict)\n"
   ]
  },
  {
   "cell_type": "code",
   "execution_count": null,
   "id": "40a0ecbe",
   "metadata": {},
   "outputs": [],
   "source": []
  }
 ],
 "metadata": {
  "celltoolbar": "Edit Metadata",
  "kernelspec": {
   "display_name": "Python 3 (ipykernel)",
   "language": "python",
   "name": "python3"
  },
  "language_info": {
   "codemirror_mode": {
    "name": "ipython",
    "version": 3
   },
   "file_extension": ".py",
   "mimetype": "text/x-python",
   "name": "python",
   "nbconvert_exporter": "python",
   "pygments_lexer": "ipython3",
   "version": "3.10.9"
  }
 },
 "nbformat": 4,
 "nbformat_minor": 5
}
