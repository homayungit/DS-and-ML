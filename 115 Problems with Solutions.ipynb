{
 "cells": [
  {
   "cell_type": "markdown",
   "id": "42b2ef43",
   "metadata": {},
   "source": [
    "1. Variable Swap: Write a Python program to swap the values of two variables without using a temporary variable."
   ]
  },
  {
   "cell_type": "markdown",
   "id": "d6678b68",
   "metadata": {},
   "source": [
    "There are severel way to solve this problem below examples"
   ]
  },
  {
   "cell_type": "code",
   "execution_count": 3,
   "id": "92e6f819",
   "metadata": {},
   "outputs": [
    {
     "name": "stdout",
     "output_type": "stream",
     "text": [
      "Before swapping: a = 20 b = 30\n",
      "After swapping: a = 30 b= 20\n"
     ]
    }
   ],
   "source": [
    "def swap(a,b):\n",
    "    a,b=b,a #I have assigned here multiple variable\n",
    "    return a,b\n",
    "\n",
    "# Main Function\n",
    "valuefor_a=20\n",
    "valuefor_b=30\n",
    "\n",
    "print(\"Before swapping: a =\", valuefor_a, \"b =\", valuefor_b)\n",
    "\n",
    "valuefor_a, valuefor_b= swap(valuefor_a, valuefor_b)\n",
    "\n",
    "print(\"After swapping: a =\", valuefor_a, \"b=\", valuefor_b)\n"
   ]
  },
  {
   "cell_type": "markdown",
   "id": "c6e542df",
   "metadata": {},
   "source": [
    "Way-2"
   ]
  },
  {
   "cell_type": "code",
   "execution_count": 4,
   "id": "a45d0571",
   "metadata": {},
   "outputs": [
    {
     "name": "stdout",
     "output_type": "stream",
     "text": [
      "Before swapping: a = 20 b = 30\n",
      "After swapping: a = 30 b= 20\n"
     ]
    }
   ],
   "source": [
    "def swap(a,b):\n",
    "    a = a + b\n",
    "    b = a - b\n",
    "    a = a - b\n",
    "    return a,b\n",
    "\n",
    "# Main Function\n",
    "valuefor_a=20\n",
    "valuefor_b=30\n",
    "\n",
    "print(\"Before swapping: a =\", valuefor_a, \"b =\", valuefor_b)\n",
    "\n",
    "valuefor_a, valuefor_b= swap(valuefor_a, valuefor_b)\n",
    "\n",
    "print(\"After swapping: a =\", valuefor_a, \"b=\", valuefor_b)"
   ]
  },
  {
   "cell_type": "markdown",
   "id": "1ef8fdbb",
   "metadata": {},
   "source": [
    "way-3 using XOR"
   ]
  },
  {
   "cell_type": "code",
   "execution_count": 5,
   "id": "6d288e62",
   "metadata": {},
   "outputs": [
    {
     "name": "stdout",
     "output_type": "stream",
     "text": [
      "Before swapping: a = 20 b = 30\n",
      "After swapping: a = 30 b= 20\n"
     ]
    }
   ],
   "source": [
    "def swap(a,b):\n",
    "    a = a ^ b\n",
    "    b = a ^ b\n",
    "    a = a ^ b\n",
    "    return a,b\n",
    "\n",
    "# Main Function\n",
    "valuefor_a=20\n",
    "valuefor_b=30\n",
    "\n",
    "print(\"Before swapping: a =\", valuefor_a, \"b =\", valuefor_b)\n",
    "\n",
    "valuefor_a, valuefor_b= swap(valuefor_a, valuefor_b)\n",
    "\n",
    "print(\"After swapping: a =\", valuefor_a, \"b=\", valuefor_b)"
   ]
  },
  {
   "cell_type": "markdown",
   "id": "20f181de",
   "metadata": {},
   "source": [
    "2. Even or Odd: Write a Python program that takes an integer as input and prints whether it is even or odd."
   ]
  },
  {
   "cell_type": "code",
   "execution_count": 6,
   "id": "1f9ec46f",
   "metadata": {},
   "outputs": [
    {
     "name": "stdout",
     "output_type": "stream",
     "text": [
      "Enter an integer: 250\n",
      "250 is even.\n"
     ]
    }
   ],
   "source": [
    "def check_even_odd(number):\n",
    "    if number % 2 == 0:\n",
    "        print(f\"{number} is even.\")\n",
    "    else:\n",
    "        print(f\"{number} is odd.\")\n",
    "\n",
    "# Example usage\n",
    "try:\n",
    "    num = int(input(\"Enter an integer: \"))\n",
    "    check_even_odd(num)\n",
    "except ValueError:\n",
    "    print(\"Invalid input! Please enter an integer.\")"
   ]
  },
  {
   "cell_type": "markdown",
   "id": "24427bab",
   "metadata": {},
   "source": [
    "3. String Reverse: Write a Python function to reverse a given string and return the reversed string."
   ]
  },
  {
   "cell_type": "code",
   "execution_count": 8,
   "id": "79d05883",
   "metadata": {},
   "outputs": [
    {
     "name": "stdout",
     "output_type": "stream",
     "text": [
      "Original string: Hello, World!\n",
      "Reversed string: !dlroW ,olleH\n"
     ]
    }
   ],
   "source": [
    "def fun_reverse_string(input_string):\n",
    "    return input_string[::-1]\n",
    "\n",
    "# Example usage\n",
    "string_to_reverse = \"Hello, World!\"\n",
    "reversed_string = fun_reverse_string(string_to_reverse)\n",
    "print(\"Original string:\", string_to_reverse)\n",
    "print(\"Reversed string:\", reversed_string)"
   ]
  },
  {
   "cell_type": "markdown",
   "id": "e06466e9",
   "metadata": {},
   "source": [
    "4. Type Conversion: Given a list of integers, write a Python program to convert each element of the list to a string."
   ]
  },
  {
   "cell_type": "code",
   "execution_count": 9,
   "id": "ec8fc39a",
   "metadata": {},
   "outputs": [
    {
     "name": "stdout",
     "output_type": "stream",
     "text": [
      "List of integers: [1, 2, 3, 4, 5]\n",
      "List of strings: ['1', '2', '3', '4', '5']\n"
     ]
    }
   ],
   "source": [
    "def convert_to_string(int_list):\n",
    "    string_list = [str(num) for num in int_list]\n",
    "    return string_list\n",
    "\n",
    "# Example usage\n",
    "integer_list = [1, 2, 3, 4, 5]\n",
    "string_list = convert_to_string(integer_list)\n",
    "print(\"List of integers:\", integer_list)\n",
    "print(\"List of strings:\", string_list)"
   ]
  },
  {
   "cell_type": "markdown",
   "id": "84bc58a5",
   "metadata": {},
   "source": [
    "5. Temperature Converter: Write a Python program that converts a temperature in Celsius to Fahrenheit. Take the Celsius temperature as input from the user."
   ]
  },
  {
   "cell_type": "code",
   "execution_count": 10,
   "id": "4a939c07",
   "metadata": {},
   "outputs": [
    {
     "name": "stdout",
     "output_type": "stream",
     "text": [
      "Enter the temperature in Celsius: 38\n",
      "38.00 Celsius is equal to 100.40 Fahrenheit.\n"
     ]
    }
   ],
   "source": [
    "def celsius_to_fahrenheit(celsius):\n",
    "    fahrenheit = (celsius * 9/5) + 32\n",
    "    return fahrenheit\n",
    "\n",
    "# Example usage\n",
    "try:\n",
    "    celsius_temp = float(input(\"Enter the temperature in Celsius: \"))\n",
    "    fahrenheit_temp = celsius_to_fahrenheit(celsius_temp)\n",
    "    print(f\"{celsius_temp:.2f} Celsius is equal to {fahrenheit_temp:.2f} Fahrenheit.\")\n",
    "except ValueError:\n",
    "    print(\"Invalid input! Please enter a valid temperature in Celsius.\")"
   ]
  },
  {
   "cell_type": "markdown",
   "id": "cd8a7cf6",
   "metadata": {},
   "source": [
    "6. Data Type Checker: Write a Python function that takes a variable as input and returns the data type of the variable as a string (e.g., “int”, “float”, “str”, “list”, etc.)."
   ]
  },
  {
   "cell_type": "code",
   "execution_count": 11,
   "id": "83948831",
   "metadata": {},
   "outputs": [
    {
     "name": "stdout",
     "output_type": "stream",
     "text": [
      "Variable 1 is of type: int\n",
      "Variable 2 is of type: str\n",
      "Variable 3 is of type: list\n",
      "Variable 4 is of type: float\n"
     ]
    }
   ],
   "source": [
    "def get_data_type(variable):\n",
    "    return str(type(variable).__name__)\n",
    "\n",
    "# Example usage\n",
    "var1 = 10\n",
    "var2 = \"Hello, World!\"\n",
    "var3 = [1, 2, 3]\n",
    "var4 = 3.14\n",
    "\n",
    "print(\"Variable 1 is of type:\", get_data_type(var1))\n",
    "print(\"Variable 2 is of type:\", get_data_type(var2))\n",
    "print(\"Variable 3 is of type:\", get_data_type(var3))\n",
    "print(\"Variable 4 is of type:\", get_data_type(var4))"
   ]
  },
  {
   "cell_type": "markdown",
   "id": "ded610d8",
   "metadata": {},
   "source": [
    "7. String Palindrome: Write a Python function to check if a given string is a palindrome or not."
   ]
  },
  {
   "cell_type": "code",
   "execution_count": 12,
   "id": "46fe53d5",
   "metadata": {},
   "outputs": [
    {
     "name": "stdout",
     "output_type": "stream",
     "text": [
      "'racecar' is a palindrome: True\n",
      "'hello' is a palindrome: False\n",
      "'A man a plan a canal Panama' is a palindrome: True\n"
     ]
    }
   ],
   "source": [
    "def is_palindrome(input_string):\n",
    "    # Remove spaces and convert to lowercase for case-insensitive palindrome check\n",
    "    clean_string = input_string.replace(\" \", \"\").lower()\n",
    "    return clean_string == clean_string[::-1]\n",
    "\n",
    "# Example usage\n",
    "test_string1 = \"racecar\"\n",
    "test_string2 = \"hello\"\n",
    "test_string3 = \"A man a plan a canal Panama\"\n",
    "\n",
    "print(f\"'{test_string1}' is a palindrome: {is_palindrome(test_string1)}\")\n",
    "print(f\"'{test_string2}' is a palindrome: {is_palindrome(test_string2)}\")\n",
    "print(f\"'{test_string3}' is a palindrome: {is_palindrome(test_string3)}\")\n"
   ]
  },
  {
   "cell_type": "code",
   "execution_count": null,
   "id": "e9c08e13",
   "metadata": {},
   "outputs": [],
   "source": []
  }
 ],
 "metadata": {
  "kernelspec": {
   "display_name": "Python 3 (ipykernel)",
   "language": "python",
   "name": "python3"
  },
  "language_info": {
   "codemirror_mode": {
    "name": "ipython",
    "version": 3
   },
   "file_extension": ".py",
   "mimetype": "text/x-python",
   "name": "python",
   "nbconvert_exporter": "python",
   "pygments_lexer": "ipython3",
   "version": "3.10.9"
  }
 },
 "nbformat": 4,
 "nbformat_minor": 5
}
