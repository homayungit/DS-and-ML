{
 "cells": [
  {
   "cell_type": "markdown",
   "id": "eb97eae8",
   "metadata": {},
   "source": [
    "# Take values of the length & breadth of a rectangle from user input and check if it is square or not python"
   ]
  },
  {
   "cell_type": "code",
   "execution_count": 1,
   "id": "5c0b567b",
   "metadata": {},
   "outputs": [
    {
     "name": "stdout",
     "output_type": "stream",
     "text": [
      "Enter the length value of the rectangle: 5\n",
      "Enter the breadth value of the rectangle: 3\n",
      "this is not a square.\n"
     ]
    }
   ],
   "source": [
    "def check_square(length, breadth):\n",
    "    return length == breadth\n",
    "\n",
    "def Output():\n",
    "        length = float(input(\"Enter the length value of the rectangle: \"))\n",
    "        breadth = float(input(\"Enter the breadth value of the rectangle: \"))\n",
    "         \n",
    "        if length <=0 or breadth <=0 :\n",
    "            print('Length and Breadth must be is grater then 0')\n",
    "        else:                  \n",
    "\n",
    "            if check_square(length, breadth):\n",
    "                print(\"this is a square!\")\n",
    "            else:\n",
    "                print(\"this is not a square.\")\n",
    "Output()"
   ]
  },
  {
   "cell_type": "code",
   "execution_count": null,
   "id": "110236c7",
   "metadata": {},
   "outputs": [],
   "source": []
  }
 ],
 "metadata": {
  "kernelspec": {
   "display_name": "Python 3 (ipykernel)",
   "language": "python",
   "name": "python3"
  },
  "language_info": {
   "codemirror_mode": {
    "name": "ipython",
    "version": 3
   },
   "file_extension": ".py",
   "mimetype": "text/x-python",
   "name": "python",
   "nbconvert_exporter": "python",
   "pygments_lexer": "ipython3",
   "version": "3.10.9"
  }
 },
 "nbformat": 4,
 "nbformat_minor": 5
}
